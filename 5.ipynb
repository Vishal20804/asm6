{
 "cells": [
  {
   "cell_type": "code",
   "execution_count": null,
   "id": "312db6cb-0f8f-494c-8bc5-7f9e31295abc",
   "metadata": {},
   "outputs": [],
   "source": [
    "Ans:1\n",
    "\n",
    "Estimation statistics is a branch of statistics that involves the process of estimating population parameters based on sample data. It is used when it is not feasible or practical to collect data from an entire population, so we rely on a sample to make inferences about the population.\n",
    "\n",
    "Point estimate refers to a single value that is used to estimate an unknown population parameter. It is calculated using sample data and provides an estimate of the parameter of interest. For example, if we want to estimate the average height of all adults in a country, we can use the sample mean height of a group of individuals as the point estimate."
   ]
  },
  {
   "cell_type": "code",
   "execution_count": 2,
   "id": "cd91729b-0c4c-4d39-8fdc-8691e7e97077",
   "metadata": {},
   "outputs": [],
   "source": [
    "Ans:2\n",
    "def estimate_population_mean(sample_mean, sample_std_dev, sample_size):\n",
    "    # Calculate the standard error (standard deviation of the sampling distribution)\n",
    "    standard_error = sample_std_dev / (sample_size ** 0.5)\n",
    "    \n",
    "    # Calculate the margin of error (multiplied by the appropriate critical value for a desired confidence level)\n",
    "    # For example, for a 95% confidence level, the critical value is 1.96 (assuming a large sample size)\n",
    "    critical_value = 1.96  # You can change this value for different confidence levels\n",
    "    margin_of_error = critical_value * standard_error\n",
    "    \n",
    "    # Calculate the lower and upper bounds of the confidence interval\n",
    "    lower_bound = sample_mean - margin_of_error\n",
    "    upper_bound = sample_mean + margin_of_error\n",
    "    \n",
    "    # Return the estimated population mean along with the confidence interval\n",
    "    return sample_mean, lower_bound, upper_bound\n"
   ]
  },
  {
   "cell_type": "code",
   "execution_count": null,
   "id": "76386d63-3fac-40d1-ab69-4774eff16be2",
   "metadata": {},
   "outputs": [],
   "source": [
    "Ans:3\n",
    "Hypothesis testing is a statistical method used to make decisions about the characteristics of a population based on sample data. It involves testing a hypothesis, which is a statement about a population parameter (such as the population mean or proportion), to determine if there is enough evidence to support or reject the hypothesis.\n",
    "hypothesis testing is a powerful statistical tool that helps in drawing conclusions from data, making informed decisions, and advancing knowledge in various fields of research and application. It is a vital part of the scientific method and plays a crucial role in data-driven decision-making.\n"
   ]
  },
  {
   "cell_type": "code",
   "execution_count": null,
   "id": "2438a6c4-1249-4f3a-ad53-7f5283f11298",
   "metadata": {},
   "outputs": [],
   "source": [
    "Ans:4\n",
    "Null Hypothesis (H0): The average weight of male college students is equal to or less than the average weight of female college students.\n",
    "\n",
    "Alternative Hypothesis (H1): The average weight of male college students is greater than the average weight of female college students.\n",
    "\n",
    "Symbolically, this can be represented as:\n",
    "\n",
    "H0: μm ≤ μf\n",
    "H1: μm > μf\n",
    "\n",
    "Where:\n",
    "H0 represents the null hypothesis,\n",
    "H1 represents the alternative hypothesis,\n",
    "μm represents the population mean weight of male college students, and\n",
    "μf represents the population mean weight of female college students."
   ]
  },
  {
   "cell_type": "code",
   "execution_count": 3,
   "id": "91fd0ff8-a6c3-4ac5-a159-d02c4fa473ae",
   "metadata": {},
   "outputs": [
    {
     "name": "stdout",
     "output_type": "stream",
     "text": [
      "Test Statistic: 2.076880554057192\n",
      "P-value: 0.07146084442365863\n",
      "Result: Fail to reject the null hypothesis. There is not enough evidence to support the alternative hypothesis.\n"
     ]
    }
   ],
   "source": [
    "Ans:5\n",
    "import numpy as np\n",
    "from scipy import stats\n",
    "\n",
    "def hypothesis_test(sample1, sample2, alpha):\n",
    "    # Calculate the sample means\n",
    "    mean1 = np.mean(sample1)\n",
    "    mean2 = np.mean(sample2)\n",
    "\n",
    "    # Calculate the sample standard deviations\n",
    "    std_dev1 = np.std(sample1, ddof=1)\n",
    "    std_dev2 = np.std(sample2, ddof=1)\n",
    "\n",
    "    # Calculate the sample sizes\n",
    "    n1 = len(sample1)\n",
    "    n2 = len(sample2)\n",
    "\n",
    "    # Calculate the test statistic (t-statistic)\n",
    "    pooled_std_dev = np.sqrt((std_dev1**2/n1) + (std_dev2**2/n2))\n",
    "    t_statistic = (mean1 - mean2) / pooled_std_dev\n",
    "\n",
    "    # Calculate the degrees of freedom\n",
    "    degrees_of_freedom = n1 + n2 - 2\n",
    "\n",
    "    # Calculate the critical value (two-tailed test)\n",
    "    critical_value = stats.t.ppf(1 - alpha/2, degrees_of_freedom)\n",
    "\n",
    "    # Calculate the p-value (two-tailed test)\n",
    "    p_value = 2 * (1 - stats.t.cdf(abs(t_statistic), degrees_of_freedom))\n",
    "\n",
    "    # Perform the hypothesis test\n",
    "    if p_value < alpha:\n",
    "        result = \"Reject the null hypothesis. There is sufficient evidence to support the alternative hypothesis.\"\n",
    "    else:\n",
    "        result = \"Fail to reject the null hypothesis. There is not enough evidence to support the alternative hypothesis.\"\n",
    "\n",
    "    # Return the results\n",
    "    return t_statistic, p_value, result\n",
    "\n",
    "# Example usage:\n",
    "sample1 = [72, 68, 65, 71, 70]\n",
    "sample2 = [63, 67, 64, 69, 66]\n",
    "alpha = 0.05\n",
    "\n",
    "t_statistic, p_value, result = hypothesis_test(sample1, sample2, alpha)\n",
    "print(\"Test Statistic:\", t_statistic)\n",
    "print(\"P-value:\", p_value)\n",
    "print(\"Result:\", result)\n"
   ]
  },
  {
   "cell_type": "code",
   "execution_count": null,
   "id": "73b60159-08b9-4fd6-8631-be97766495f4",
   "metadata": {},
   "outputs": [],
   "source": [
    "Ans:6\n",
    "In hypothesis testing, the null hypothesis (H0) and alternative hypothesis (H1 or Ha) are two competing statements about a population parameter. They help define the direction and nature of the hypothesis test. Here are examples of null and alternative hypotheses:\n",
    "\n",
    "Example for a Population Mean:\n",
    "Null Hypothesis (H0): The average IQ score of students is 100.\n",
    "Alternative Hypothesis (H1): The average IQ score of students is not equal to 100."
   ]
  },
  {
   "cell_type": "code",
   "execution_count": null,
   "id": "47a7d19d-2d66-46b3-aba9-0ff046d4d4cf",
   "metadata": {},
   "outputs": [],
   "source": [
    "Ans:7 Here the steps:\n",
    "Formulate the Hypotheses\n",
    "Select the Significance Level\n",
    "Collect and Prepare Data\n",
    "Choose the Test Statistic\n",
    "Set the Decision Rule\n",
    "Calculate the Test Statistic\n",
    "Calculate the P-value\n",
    "Make a Decision\n",
    "Interpret the Results"
   ]
  },
  {
   "cell_type": "code",
   "execution_count": null,
   "id": "219295a8-d860-4516-a538-544d2d5e26d3",
   "metadata": {},
   "outputs": [],
   "source": [
    "Ans:8\n",
    "The p-value, short for \"probability value,\" is a measure of the strength of evidence against the null hypothesis in hypothesis testing. It quantifies the probability of obtaining a test statistic as extreme as, or more extreme than, the observed test statistic under the assumption that the null hypothesis is true. In other words, it indicates the likelihood of observing the data or more extreme data if the null hypothesis were actually true.\n"
   ]
  }
 ],
 "metadata": {
  "kernelspec": {
   "display_name": "Python 3 (ipykernel)",
   "language": "python",
   "name": "python3"
  },
  "language_info": {
   "codemirror_mode": {
    "name": "ipython",
    "version": 3
   },
   "file_extension": ".py",
   "mimetype": "text/x-python",
   "name": "python",
   "nbconvert_exporter": "python",
   "pygments_lexer": "ipython3",
   "version": "3.10.8"
  }
 },
 "nbformat": 4,
 "nbformat_minor": 5
}
